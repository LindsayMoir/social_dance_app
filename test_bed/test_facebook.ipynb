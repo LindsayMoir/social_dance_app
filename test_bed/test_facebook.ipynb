{
 "cells": [
  {
   "cell_type": "code",
   "execution_count": 2,
   "metadata": {},
   "outputs": [
    {
     "name": "stdout",
     "output_type": "stream",
     "text": [
      "/mnt/d/OneDrive/Data_Science/social_dance_app/src\n"
     ]
    }
   ],
   "source": [
    "from facebook_business.api import FacebookAdsApi\n",
    "from facebook_business.adobjects.adaccount import AdAccount\n",
    "import os\n",
    "import pandas as pd\n",
    "import requests\n",
    "print(os.getcwd())"
   ]
  },
  {
   "cell_type": "code",
   "execution_count": 3,
   "metadata": {},
   "outputs": [],
   "source": [
    "# Read the keys from the security file\n",
    "keys_df = pd.read_csv('/mnt/d/OneDrive/Security/keys.csv')\n",
    "appid = keys_df.loc[keys_df['Organization'] == 'Meta', 'App_ID'].values[0]\n",
    "appsecret = keys_df.loc[keys_df['Organization'] == 'Meta', 'Key'].values[0]\n",
    "accesstoken = keys_df.loc[keys_df['Organization'] == 'Meta', 'Access_Token'].values[0]"
   ]
  },
  {
   "cell_type": "code",
   "execution_count": 4,
   "metadata": {},
   "outputs": [
    {
     "name": "stdout",
     "output_type": "stream",
     "text": [
      "{'id': '9181900728500501', 'name': 'Lindsay Moir'}\n"
     ]
    }
   ],
   "source": [
    "# Initialize the Facebook API\n",
    "FacebookAdsApi.init(appid, appsecret, accesstoken)\n",
    "\n",
    "# Define the URL for the user profile request\n",
    "url = \"https://graph.facebook.com/v10.0/me?fields=id,name&access_token=\" + accesstoken\n",
    "\n",
    "# Make the request to get the user profile information\n",
    "response = requests.get(url)\n",
    "\n",
    "# Check if the request was successful\n",
    "if response.status_code == 200:\n",
    "    # Parse the JSON response\n",
    "    user_info = response.json()\n",
    "    print(user_info)\n",
    "else:\n",
    "    print(f\"Error: {response.status_code} - {response.text}\")\n"
   ]
  },
  {
   "cell_type": "code",
   "execution_count": null,
   "metadata": {},
   "outputs": [],
   "source": []
  }
 ],
 "metadata": {
  "kernelspec": {
   "display_name": "openai",
   "language": "python",
   "name": "python3"
  },
  "language_info": {
   "codemirror_mode": {
    "name": "ipython",
    "version": 3
   },
   "file_extension": ".py",
   "mimetype": "text/x-python",
   "name": "python",
   "nbconvert_exporter": "python",
   "pygments_lexer": "ipython3",
   "version": "3.11.7"
  }
 },
 "nbformat": 4,
 "nbformat_minor": 2
}
